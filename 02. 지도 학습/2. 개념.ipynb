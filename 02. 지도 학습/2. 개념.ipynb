{
 "cells": [
  {
   "cell_type": "markdown",
   "source": [
    "## 2.1 분류와 회귀"
   ],
   "metadata": {
    "collapsed": false,
    "pycharm": {
     "name": "#%% md\n"
    }
   }
  },
  {
   "cell_type": "code",
   "execution_count": 2,
   "metadata": {
    "collapsed": true
   },
   "outputs": [],
   "source": [
    "##분류: 값에 연속성을 가지고 있지 않음.\n",
    "##회귀: 값 사이에 연속성을 가지고 있음."
   ]
  },
  {
   "cell_type": "markdown",
   "source": [
    "## 2.2 일반화, 과대적합, 과소적합"
   ],
   "metadata": {
    "collapsed": false,
    "pycharm": {
     "name": "#%% md\n"
    }
   }
  },
  {
   "cell_type": "code",
   "execution_count": 3,
   "outputs": [],
   "source": [
    "## 과대적합: 가진 정보를 모두 사용해서 너무 복잡한 모델을 만드는 것\n",
    "## 과소적합: 너무 간단한 모델이 선택되는 것"
   ],
   "metadata": {
    "collapsed": false,
    "pycharm": {
     "name": "#%%\n"
    }
   }
  }
 ],
 "metadata": {
  "kernelspec": {
   "display_name": "Python 3",
   "language": "python",
   "name": "python3"
  },
  "language_info": {
   "codemirror_mode": {
    "name": "ipython",
    "version": 2
   },
   "file_extension": ".py",
   "mimetype": "text/x-python",
   "name": "python",
   "nbconvert_exporter": "python",
   "pygments_lexer": "ipython2",
   "version": "2.7.6"
  }
 },
 "nbformat": 4,
 "nbformat_minor": 0
}